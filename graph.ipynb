{
 "cells": [
  {
   "cell_type": "code",
   "execution_count": 23,
   "metadata": {},
   "outputs": [],
   "source": [
    "import os\n",
    "import time\n",
    "import pandas as pd\n",
    "from dotenv import load_dotenv, find_dotenv\n",
    "\n",
    "import praw\n",
    "import prawcore\n",
    "from praw.models import MoreComments"
   ]
  },
  {
   "cell_type": "code",
   "execution_count": 24,
   "metadata": {},
   "outputs": [
    {
     "name": "stdout",
     "output_type": "stream",
     "text": [
      "andreaLolli\n"
     ]
    }
   ],
   "source": [
    "load_dotenv(find_dotenv())\n",
    "\n",
    "CLIENT_ID=os.getenv(\"CLIENT_ID\")\n",
    "SECRET_TOKEN=os.getenv(\"SECRET_TOKEN\")\n",
    "USERNAME=os.getenv(\"USERNAME\")\n",
    "PASSWORD=os.getenv(\"PASSWORD\")\n",
    "\n",
    "reddit = praw.Reddit(client_id=CLIENT_ID,\n",
    "                     client_secret=SECRET_TOKEN,\n",
    "                     password=PASSWORD,\n",
    "                     username=USERNAME,\n",
    "                     user_agent='Tutorial')\n",
    "\n",
    "print(reddit.user.me())"
   ]
  },
  {
   "cell_type": "code",
   "execution_count": 25,
   "metadata": {},
   "outputs": [],
   "source": [
    "df = pd.read_csv(\"data/rap_beef.csv\")"
   ]
  },
  {
   "cell_type": "code",
   "execution_count": 26,
   "metadata": {},
   "outputs": [
    {
     "name": "stdout",
     "output_type": "stream",
     "text": [
      "Too many requests. Sleeping for 60 seconds.\n",
      "Too many requests. Sleeping for 60 seconds.\n",
      "Too many requests. Sleeping for 60 seconds.\n"
     ]
    }
   ],
   "source": [
    "authors_rel = []\n",
    "\n",
    "for index, row in df.iterrows():\n",
    "    # Find author and comments\n",
    "    sub_auth = row['author']\n",
    "    sub = reddit.submission(id=row['id'])\n",
    "    \n",
    "    # Load more comments by replacing MoreComments objects\n",
    "    while True:\n",
    "        try:\n",
    "            sub.comments.replace_more(limit=20)\n",
    "            break\n",
    "        except praw.exceptions.APIException as e:\n",
    "            if e.error_type == 'RATELIMIT':\n",
    "                print(f\"Rate limit exceeded. Sleeping for {e.sleep_time} seconds.\")\n",
    "                time.sleep(e.sleep_time)\n",
    "            else:\n",
    "                raise\n",
    "        except prawcore.exceptions.TooManyRequests:\n",
    "            print(\"Too many requests. Sleeping for 60 seconds.\")\n",
    "            time.sleep(60)\n",
    "    \n",
    "    # Extract author for each top-level comment\n",
    "    for top_level_comment in sub.comments:\n",
    "        if isinstance(top_level_comment, MoreComments):\n",
    "            continue\n",
    "        top_l_auth = top_level_comment.author\n",
    "        if top_l_auth:\n",
    "            authors_rel_element = [str(sub_auth), str(top_l_auth)]\n",
    "            authors_rel.append(authors_rel_element)\n",
    "        \n",
    "            # Extract authors for each second-level comment\n",
    "            for second_level_comment in top_level_comment.replies:\n",
    "                if isinstance(second_level_comment, MoreComments):\n",
    "                    continue\n",
    "                sec_l_auth = second_level_comment.author\n",
    "                if sec_l_auth:\n",
    "                    elem = [str(top_l_auth), str(sec_l_auth)]\n",
    "                    authors_rel.append(elem)\n",
    "                \n",
    "                    # Extract authors for each third-level comment\n",
    "                    for third_level_comment in second_level_comment.replies:\n",
    "                        if isinstance(third_level_comment, MoreComments):\n",
    "                            continue\n",
    "                        third_l_auth = third_level_comment.author\n",
    "                        if third_l_auth:\n",
    "                            elem = [str(sec_l_auth), str(third_l_auth)]\n",
    "                            authors_rel.append(elem)"
   ]
  },
  {
   "cell_type": "code",
   "execution_count": 27,
   "metadata": {},
   "outputs": [
    {
     "data": {
      "text/html": [
       "<div>\n",
       "<style scoped>\n",
       "    .dataframe tbody tr th:only-of-type {\n",
       "        vertical-align: middle;\n",
       "    }\n",
       "\n",
       "    .dataframe tbody tr th {\n",
       "        vertical-align: top;\n",
       "    }\n",
       "\n",
       "    .dataframe thead th {\n",
       "        text-align: right;\n",
       "    }\n",
       "</style>\n",
       "<table border=\"1\" class=\"dataframe\">\n",
       "  <thead>\n",
       "    <tr style=\"text-align: right;\">\n",
       "      <th></th>\n",
       "      <th>Parent_Author</th>\n",
       "      <th>Reply_Author</th>\n",
       "    </tr>\n",
       "  </thead>\n",
       "  <tbody>\n",
       "    <tr>\n",
       "      <th>0</th>\n",
       "      <td>Me_Zebra</td>\n",
       "      <td>gloomygl</td>\n",
       "    </tr>\n",
       "    <tr>\n",
       "      <th>1</th>\n",
       "      <td>gloomygl</td>\n",
       "      <td>Me_Zebra</td>\n",
       "    </tr>\n",
       "    <tr>\n",
       "      <th>2</th>\n",
       "      <td>Me_Zebra</td>\n",
       "      <td>yao_ming07</td>\n",
       "    </tr>\n",
       "    <tr>\n",
       "      <th>3</th>\n",
       "      <td>Me_Zebra</td>\n",
       "      <td>gloomygl</td>\n",
       "    </tr>\n",
       "    <tr>\n",
       "      <th>4</th>\n",
       "      <td>Me_Zebra</td>\n",
       "      <td>Waxfuu323</td>\n",
       "    </tr>\n",
       "    <tr>\n",
       "      <th>...</th>\n",
       "      <td>...</td>\n",
       "      <td>...</td>\n",
       "    </tr>\n",
       "    <tr>\n",
       "      <th>138052</th>\n",
       "      <td>whoistourlife</td>\n",
       "      <td>EpikPhones</td>\n",
       "    </tr>\n",
       "    <tr>\n",
       "      <th>138053</th>\n",
       "      <td>whoistourlife</td>\n",
       "      <td>Pb_Fardi</td>\n",
       "    </tr>\n",
       "    <tr>\n",
       "      <th>138054</th>\n",
       "      <td>whoistourlife</td>\n",
       "      <td>AlphaLax85</td>\n",
       "    </tr>\n",
       "    <tr>\n",
       "      <th>138055</th>\n",
       "      <td>whoistourlife</td>\n",
       "      <td>dylaptop</td>\n",
       "    </tr>\n",
       "    <tr>\n",
       "      <th>138056</th>\n",
       "      <td>whoistourlife</td>\n",
       "      <td>Spare-Water-7672</td>\n",
       "    </tr>\n",
       "  </tbody>\n",
       "</table>\n",
       "<p>138057 rows × 2 columns</p>\n",
       "</div>"
      ],
      "text/plain": [
       "        Parent_Author      Reply_Author\n",
       "0            Me_Zebra          gloomygl\n",
       "1            gloomygl          Me_Zebra\n",
       "2            Me_Zebra        yao_ming07\n",
       "3            Me_Zebra          gloomygl\n",
       "4            Me_Zebra         Waxfuu323\n",
       "...               ...               ...\n",
       "138052  whoistourlife        EpikPhones\n",
       "138053  whoistourlife          Pb_Fardi\n",
       "138054  whoistourlife        AlphaLax85\n",
       "138055  whoistourlife          dylaptop\n",
       "138056  whoistourlife  Spare-Water-7672\n",
       "\n",
       "[138057 rows x 2 columns]"
      ]
     },
     "execution_count": 27,
     "metadata": {},
     "output_type": "execute_result"
    }
   ],
   "source": [
    "# Convert the authors_rel list to a DataFrame\n",
    "authors_rel_df = pd.DataFrame(authors_rel, columns=['Parent_Author', 'Reply_Author'])\n",
    "authors_rel_df"
   ]
  },
  {
   "cell_type": "code",
   "execution_count": 28,
   "metadata": {},
   "outputs": [],
   "source": [
    "authors_rel_df= authors_rel_df.drop_duplicates()\n",
    "authors_rel_df = authors_rel_df.mask(authors_rel_df.eq('None')).dropna()\n",
    "authors_rel_df.to_csv('data/authors_relations.csv')"
   ]
  }
 ],
 "metadata": {
  "kernelspec": {
   "display_name": ".venv",
   "language": "python",
   "name": "python3"
  },
  "language_info": {
   "codemirror_mode": {
    "name": "ipython",
    "version": 3
   },
   "file_extension": ".py",
   "mimetype": "text/x-python",
   "name": "python",
   "nbconvert_exporter": "python",
   "pygments_lexer": "ipython3",
   "version": "3.10.12"
  }
 },
 "nbformat": 4,
 "nbformat_minor": 2
}
