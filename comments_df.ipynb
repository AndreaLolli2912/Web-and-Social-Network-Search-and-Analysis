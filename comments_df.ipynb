{
 "cells": [
  {
   "cell_type": "code",
   "execution_count": 2,
   "metadata": {},
   "outputs": [],
   "source": [
    "import pandas as pd"
   ]
  },
  {
   "cell_type": "code",
   "execution_count": 17,
   "metadata": {},
   "outputs": [
    {
     "data": {
      "text/html": [
       "<div>\n",
       "<style scoped>\n",
       "    .dataframe tbody tr th:only-of-type {\n",
       "        vertical-align: middle;\n",
       "    }\n",
       "\n",
       "    .dataframe tbody tr th {\n",
       "        vertical-align: top;\n",
       "    }\n",
       "\n",
       "    .dataframe thead th {\n",
       "        text-align: right;\n",
       "    }\n",
       "</style>\n",
       "<table border=\"1\" class=\"dataframe\">\n",
       "  <thead>\n",
       "    <tr style=\"text-align: right;\">\n",
       "      <th></th>\n",
       "      <th>user</th>\n",
       "      <th>comment</th>\n",
       "      <th>created_utc</th>\n",
       "      <th>score</th>\n",
       "    </tr>\n",
       "  </thead>\n",
       "  <tbody>\n",
       "    <tr>\n",
       "      <th>0</th>\n",
       "      <td>gloomygl</td>\n",
       "      <td>hi kenny call cause tight like rather curious ...</td>\n",
       "      <td>2024-05-18</td>\n",
       "      <td>543</td>\n",
       "    </tr>\n",
       "    <tr>\n",
       "      <th>1</th>\n",
       "      <td>gloomygl</td>\n",
       "      <td>came</td>\n",
       "      <td>2024-05-13</td>\n",
       "      <td>40</td>\n",
       "    </tr>\n",
       "    <tr>\n",
       "      <th>2</th>\n",
       "      <td>gloomygl</td>\n",
       "      <td>theyre good tho</td>\n",
       "      <td>2024-05-17</td>\n",
       "      <td>56</td>\n",
       "    </tr>\n",
       "    <tr>\n",
       "      <th>3</th>\n",
       "      <td>gloomygl</td>\n",
       "      <td>pimp butterfly</td>\n",
       "      <td>2024-05-21</td>\n",
       "      <td>371</td>\n",
       "    </tr>\n",
       "    <tr>\n",
       "      <th>4</th>\n",
       "      <td>gloomygl</td>\n",
       "      <td>turn boing</td>\n",
       "      <td>2024-05-10</td>\n",
       "      <td>43</td>\n",
       "    </tr>\n",
       "  </tbody>\n",
       "</table>\n",
       "</div>"
      ],
      "text/plain": [
       "       user                                            comment created_utc  \\\n",
       "0  gloomygl  hi kenny call cause tight like rather curious ...  2024-05-18   \n",
       "1  gloomygl                                               came  2024-05-13   \n",
       "2  gloomygl                                    theyre good tho  2024-05-17   \n",
       "3  gloomygl                                     pimp butterfly  2024-05-21   \n",
       "4  gloomygl                                         turn boing  2024-05-10   \n",
       "\n",
       "   score  \n",
       "0    543  \n",
       "1     40  \n",
       "2     56  \n",
       "3    371  \n",
       "4     43  "
      ]
     },
     "metadata": {},
     "output_type": "display_data"
    },
    {
     "data": {
      "text/plain": [
       "(51474, 4)"
      ]
     },
     "execution_count": 17,
     "metadata": {},
     "output_type": "execute_result"
    }
   ],
   "source": [
    "# Reading the dataframes from CSV files\n",
    "comments_df = pd.read_csv(\"final_comments_dataframe.csv\")\n",
    "posts_df = pd.read_csv(\"final_posts_dataframe.csv\")\n",
    "\n",
    "# Selecting the relevant columns and renaming them for consistency\n",
    "comments_df = comments_df[[\"user\", \"comment\", \"created_utc\", \"score\"]]\n",
    "posts_df = posts_df[[\"author\", \"text\", \"created_utc\", \"score\"]]\n",
    "\n",
    "# Renaming columns in posts_df to match comments_df\n",
    "posts_df.columns = [\"user\", \"comment\", \"created_utc\", \"score\"]\n",
    "\n",
    "# Dropping duplicates\n",
    "comments_df.drop_duplicates(inplace=True)\n",
    "posts_df.drop_duplicates(inplace=True)\n",
    "\n",
    "# Dropping rows with missing values in the comment columns\n",
    "comments_df.dropna(subset=[\"comment\"], inplace=True)\n",
    "posts_df.dropna(subset=[\"comment\"], inplace=True)\n",
    "\n",
    "# Converting 'created_utc' to datetime and extracting year, month, and day\n",
    "comments_df['created_utc'] = pd.to_datetime(comments_df['created_utc']).dt.date\n",
    "posts_df['created_utc'] = pd.to_datetime(posts_df['created_utc']).dt.date\n",
    "\n",
    "# Concatenating the dataframes into one\n",
    "combined_df = pd.concat([comments_df, posts_df], ignore_index=True)\n",
    "\n",
    "# Display the combined dataframe\n",
    "display(combined_df.head())\n",
    "combined_df.shape"
   ]
  },
  {
   "cell_type": "code",
   "execution_count": 24,
   "metadata": {},
   "outputs": [
    {
     "data": {
      "text/plain": [
       "count    51474.000000\n",
       "mean        14.933034\n",
       "std         28.082863\n",
       "min          1.000000\n",
       "1%           1.000000\n",
       "10%          2.000000\n",
       "25%          4.000000\n",
       "50%          8.000000\n",
       "75%         16.000000\n",
       "90%         32.000000\n",
       "95%         48.000000\n",
       "99%        105.000000\n",
       "max       2165.000000\n",
       "Name: comment, dtype: float64"
      ]
     },
     "execution_count": 24,
     "metadata": {},
     "output_type": "execute_result"
    }
   ],
   "source": [
    "descriptive_comments_stats = combined_df[\"comment\"].apply(lambda x: len(x.split())).describe(percentiles=[.01, .1, .25, .5, .75, .90, .95, .99])\n",
    "descriptive_comments_stats"
   ]
  },
  {
   "cell_type": "code",
   "execution_count": 21,
   "metadata": {},
   "outputs": [
    {
     "data": {
      "text/html": [
       "<div>\n",
       "<style scoped>\n",
       "    .dataframe tbody tr th:only-of-type {\n",
       "        vertical-align: middle;\n",
       "    }\n",
       "\n",
       "    .dataframe tbody tr th {\n",
       "        vertical-align: top;\n",
       "    }\n",
       "\n",
       "    .dataframe thead th {\n",
       "        text-align: right;\n",
       "    }\n",
       "</style>\n",
       "<table border=\"1\" class=\"dataframe\">\n",
       "  <thead>\n",
       "    <tr style=\"text-align: right;\">\n",
       "      <th></th>\n",
       "      <th>score</th>\n",
       "    </tr>\n",
       "  </thead>\n",
       "  <tbody>\n",
       "    <tr>\n",
       "      <th>count</th>\n",
       "      <td>49908.000000</td>\n",
       "    </tr>\n",
       "    <tr>\n",
       "      <th>mean</th>\n",
       "      <td>60.415945</td>\n",
       "    </tr>\n",
       "    <tr>\n",
       "      <th>std</th>\n",
       "      <td>356.143695</td>\n",
       "    </tr>\n",
       "    <tr>\n",
       "      <th>min</th>\n",
       "      <td>-320.000000</td>\n",
       "    </tr>\n",
       "    <tr>\n",
       "      <th>1%</th>\n",
       "      <td>-10.000000</td>\n",
       "    </tr>\n",
       "    <tr>\n",
       "      <th>10%</th>\n",
       "      <td>1.000000</td>\n",
       "    </tr>\n",
       "    <tr>\n",
       "      <th>25%</th>\n",
       "      <td>1.000000</td>\n",
       "    </tr>\n",
       "    <tr>\n",
       "      <th>50%</th>\n",
       "      <td>2.000000</td>\n",
       "    </tr>\n",
       "    <tr>\n",
       "      <th>75%</th>\n",
       "      <td>11.000000</td>\n",
       "    </tr>\n",
       "    <tr>\n",
       "      <th>90%</th>\n",
       "      <td>74.000000</td>\n",
       "    </tr>\n",
       "    <tr>\n",
       "      <th>95%</th>\n",
       "      <td>215.650000</td>\n",
       "    </tr>\n",
       "    <tr>\n",
       "      <th>99%</th>\n",
       "      <td>1214.650000</td>\n",
       "    </tr>\n",
       "    <tr>\n",
       "      <th>max</th>\n",
       "      <td>10498.000000</td>\n",
       "    </tr>\n",
       "  </tbody>\n",
       "</table>\n",
       "</div>"
      ],
      "text/plain": [
       "              score\n",
       "count  49908.000000\n",
       "mean      60.415945\n",
       "std      356.143695\n",
       "min     -320.000000\n",
       "1%       -10.000000\n",
       "10%        1.000000\n",
       "25%        1.000000\n",
       "50%        2.000000\n",
       "75%       11.000000\n",
       "90%       74.000000\n",
       "95%      215.650000\n",
       "99%     1214.650000\n",
       "max    10498.000000"
      ]
     },
     "execution_count": 21,
     "metadata": {},
     "output_type": "execute_result"
    }
   ],
   "source": [
    "comments_score = comments_df[\"score\"]\n",
    "descriptive_score_stats = comments_df.describe(percentiles=[.01, .1, .25, .5, .75, .90, .95, .99])\n",
    "descriptive_score_stats"
   ]
  },
  {
   "cell_type": "code",
   "execution_count": 27,
   "metadata": {},
   "outputs": [
    {
     "name": "stderr",
     "output_type": "stream",
     "text": [
      "/tmp/ipykernel_22804/1279186665.py:1: FutureWarning: Operation between non boolean Series with different indexes will no longer return a boolean result in a future version. Cast both Series to object type to maintain the prior behavior.\n",
      "  filtered_combined_df = combined_df[combined_df[\"comment\"].apply(lambda x: len(x.split()) >= 4 ) & comments_df[\"score\"] >= 1]\n"
     ]
    }
   ],
   "source": [
    "filtered_combined_df = combined_df[combined_df[\"comment\"].apply(lambda x: len(x.split()) >= 4 ) & comments_df[\"score\"] >= 1]\n",
    "# Saving the filtered dataframe to a CSV file\n",
    "filtered_combined_df.to_csv(\"filtered_comments.csv\", index=False)"
   ]
  },
  {
   "cell_type": "code",
   "execution_count": null,
   "metadata": {},
   "outputs": [],
   "source": []
  }
 ],
 "metadata": {
  "kernelspec": {
   "display_name": ".venv",
   "language": "python",
   "name": "python3"
  },
  "language_info": {
   "codemirror_mode": {
    "name": "ipython",
    "version": 3
   },
   "file_extension": ".py",
   "mimetype": "text/x-python",
   "name": "python",
   "nbconvert_exporter": "python",
   "pygments_lexer": "ipython3",
   "version": "3.10.12"
  }
 },
 "nbformat": 4,
 "nbformat_minor": 2
}
