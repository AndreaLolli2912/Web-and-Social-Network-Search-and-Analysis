{
 "cells": [
  {
   "cell_type": "code",
   "execution_count": 1,
   "metadata": {},
   "outputs": [],
   "source": [
    "import os\n",
    "import praw\n",
    "from CONFIG import SUBMISSION_DATA_FIELDS\n",
    "\n",
    "import pandas as pd\n",
    "\n",
    "from dotenv import find_dotenv, load_dotenv"
   ]
  },
  {
   "cell_type": "code",
   "execution_count": 10,
   "metadata": {},
   "outputs": [
    {
     "name": "stdout",
     "output_type": "stream",
     "text": [
      "andreaLolli\n"
     ]
    }
   ],
   "source": [
    "load_dotenv(find_dotenv())\n",
    "\n",
    "CLIENT_ID=os.getenv(\"CLIENT_ID\")\n",
    "SECRET_TOKEN=os.getenv(\"SECRET_TOKEN\")\n",
    "USERNAME=os.getenv(\"USERNAME\")\n",
    "PASSWORD=os.getenv(\"PASSWORD\")\n",
    "\n",
    "reddit = praw.Reddit(client_id=CLIENT_ID,\n",
    "                     client_secret=SECRET_TOKEN,\n",
    "                     password=PASSWORD,\n",
    "                     username=USERNAME,\n",
    "                     user_agent='Tutorial')\n",
    "\n",
    "print(reddit.user.me())"
   ]
  },
  {
   "cell_type": "code",
   "execution_count": 14,
   "metadata": {},
   "outputs": [],
   "source": [
    "\n",
    "# Function to search for a query and list subreddits\n",
    "def search_and_list_subreddits(query, limit=10):\n",
    "    # Search Reddit for the query\n",
    "    search_results = reddit.subreddit('all').search(query, limit=limit)\n",
    "    \n",
    "    # Collect the subreddits from the search results\n",
    "    subreddits = [result.subreddit.display_name for result in search_results]\n",
    "\n",
    "    # Print the subreddits\n",
    "    print(f\"Top {limit} subreddits for the query '{query}':\")\n",
    "    return subreddits"
   ]
  },
  {
   "cell_type": "code",
   "execution_count": 18,
   "metadata": {},
   "outputs": [
    {
     "name": "stdout",
     "output_type": "stream",
     "text": [
      "Top 10 subreddits for the query 'Drake AND Kendrick Lamar':\n"
     ]
    }
   ],
   "source": [
    "subreddits_names = search_and_list_subreddits(query=\"Drake AND Kendrick Lamar\")"
   ]
  },
  {
   "cell_type": "code",
   "execution_count": 25,
   "metadata": {},
   "outputs": [
    {
     "ename": "NameError",
     "evalue": "name 'SUBMISSION_DATA_FIELDS' is not defined",
     "output_type": "error",
     "traceback": [
      "\u001b[0;31m---------------------------------------------------------------------------\u001b[0m",
      "\u001b[0;31mNameError\u001b[0m                                 Traceback (most recent call last)",
      "Cell \u001b[0;32mIn[25], line 1\u001b[0m\n\u001b[0;32m----> 1\u001b[0m \u001b[38;5;28;01mdef\u001b[39;00m \u001b[38;5;21mfetch_submission_data\u001b[39m(subreddit_name, keywords, fields\u001b[38;5;241m=\u001b[39m\u001b[43mSUBMISSION_DATA_FIELDS\u001b[49m, limit\u001b[38;5;241m=\u001b[39m\u001b[38;5;241m100\u001b[39m):\n\u001b[1;32m      2\u001b[0m \u001b[38;5;250m    \u001b[39m\u001b[38;5;124;03m\"\"\"\u001b[39;00m\n\u001b[1;32m      3\u001b[0m \u001b[38;5;124;03m    Fetches submission data from a given subreddit based on search keywords.\u001b[39;00m\n\u001b[1;32m      4\u001b[0m \n\u001b[0;32m   (...)\u001b[0m\n\u001b[1;32m     11\u001b[0m \u001b[38;5;124;03m        pd.DataFrame: A DataFrame containing submission data.\u001b[39;00m\n\u001b[1;32m     12\u001b[0m \u001b[38;5;124;03m    \"\"\"\u001b[39;00m\n\u001b[1;32m     13\u001b[0m     submissions_data \u001b[38;5;241m=\u001b[39m []\n",
      "\u001b[0;31mNameError\u001b[0m: name 'SUBMISSION_DATA_FIELDS' is not defined"
     ]
    }
   ],
   "source": [
    "def fetch_submission_data(subreddit_name, keywords, fields=SUBMISSION_DATA_FIELDS, limit=100):\n",
    "    \"\"\"\n",
    "    Fetches submission data from a given subreddit based on search keywords.\n",
    "\n",
    "    Args:\n",
    "        subreddit_name (str): The name of the subreddit to search in.\n",
    "        keywords (str): The search keywords.\n",
    "        limit (int): The maximum number of search results to fetch.\n",
    "\n",
    "    Returns:\n",
    "        pd.DataFrame: A DataFrame containing submission data.\n",
    "    \"\"\"\n",
    "    submissions_data = []\n",
    "\n",
    "    for submission in reddit.subreddit(subreddit_name).search(keywords, limit=limit):\n",
    "        submission_data = {}\n",
    "\n",
    "        for field in fields:\n",
    "            try:\n",
    "                submission_data[field] = getattr(submission, field, '')\n",
    "            except AttributeError:\n",
    "                submission_data[field] = ''\n",
    "\n",
    "        submissions_data.append(submission_data)    \n",
    "\n",
    "    return pd.DataFrame(submissions_data)"
   ]
  },
  {
   "cell_type": "code",
   "execution_count": 26,
   "metadata": {},
   "outputs": [
    {
     "ename": "NameError",
     "evalue": "name 'SUBMISSION_DATA_FIELDS' is not defined",
     "output_type": "error",
     "traceback": [
      "\u001b[0;31m---------------------------------------------------------------------------\u001b[0m",
      "\u001b[0;31mNameError\u001b[0m                                 Traceback (most recent call last)",
      "Cell \u001b[0;32mIn[26], line 1\u001b[0m\n\u001b[0;32m----> 1\u001b[0m submissions_data \u001b[38;5;241m=\u001b[39m \u001b[43mfetch_submission_data\u001b[49m\u001b[43m(\u001b[49m\n\u001b[1;32m      2\u001b[0m \u001b[43m    \u001b[49m\u001b[43msubreddit_name\u001b[49m\u001b[38;5;241;43m=\u001b[39;49m\u001b[43msubreddits_names\u001b[49m\u001b[43m[\u001b[49m\u001b[38;5;241;43m0\u001b[39;49m\u001b[43m]\u001b[49m\u001b[43m,\u001b[49m\n\u001b[1;32m      3\u001b[0m \u001b[43m    \u001b[49m\u001b[43mkeywords\u001b[49m\u001b[38;5;241;43m=\u001b[39;49m\u001b[38;5;124;43m\"\u001b[39;49m\u001b[38;5;124;43mKendrick Lamar AND Drake\u001b[39;49m\u001b[38;5;124;43m\"\u001b[39;49m\u001b[43m,\u001b[49m\n\u001b[1;32m      4\u001b[0m \u001b[43m    \u001b[49m\u001b[43mlimit\u001b[49m\u001b[38;5;241;43m=\u001b[39;49m\u001b[38;5;241;43m10\u001b[39;49m\n\u001b[1;32m      5\u001b[0m \u001b[43m    \u001b[49m\u001b[43m)\u001b[49m\n\u001b[1;32m      7\u001b[0m submissions_data\u001b[38;5;241m.\u001b[39mhead()\n",
      "Cell \u001b[0;32mIn[23], line 18\u001b[0m, in \u001b[0;36mfetch_submission_data\u001b[0;34m(subreddit_name, keywords, limit)\u001b[0m\n\u001b[1;32m     15\u001b[0m \u001b[38;5;28;01mfor\u001b[39;00m submission \u001b[38;5;129;01min\u001b[39;00m reddit\u001b[38;5;241m.\u001b[39msubreddit(subreddit_name)\u001b[38;5;241m.\u001b[39msearch(keywords, limit\u001b[38;5;241m=\u001b[39mlimit):\n\u001b[1;32m     16\u001b[0m     submission_data \u001b[38;5;241m=\u001b[39m {}\n\u001b[0;32m---> 18\u001b[0m     \u001b[38;5;28;01mfor\u001b[39;00m field \u001b[38;5;129;01min\u001b[39;00m \u001b[43mSUBMISSION_DATA_FIELDS\u001b[49m:\n\u001b[1;32m     19\u001b[0m         \u001b[38;5;28;01mtry\u001b[39;00m:\n\u001b[1;32m     20\u001b[0m             submission_data[field] \u001b[38;5;241m=\u001b[39m \u001b[38;5;28mgetattr\u001b[39m(submission, field, \u001b[38;5;124m'\u001b[39m\u001b[38;5;124m'\u001b[39m)\n",
      "\u001b[0;31mNameError\u001b[0m: name 'SUBMISSION_DATA_FIELDS' is not defined"
     ]
    }
   ],
   "source": [
    "submissions_data = fetch_submission_data(\n",
    "    subreddit_name=subreddits_names[0],\n",
    "    keywords=\"Kendrick Lamar AND Drake\",\n",
    "    limit=10\n",
    "    )\n",
    "\n",
    "submissions_data.head()"
   ]
  },
  {
   "cell_type": "code",
   "execution_count": null,
   "metadata": {},
   "outputs": [],
   "source": []
  }
 ],
 "metadata": {
  "kernelspec": {
   "display_name": ".venv",
   "language": "python",
   "name": "python3"
  },
  "language_info": {
   "codemirror_mode": {
    "name": "ipython",
    "version": 3
   },
   "file_extension": ".py",
   "mimetype": "text/x-python",
   "name": "python",
   "nbconvert_exporter": "python",
   "pygments_lexer": "ipython3",
   "version": "3.10.12"
  }
 },
 "nbformat": 4,
 "nbformat_minor": 2
}
